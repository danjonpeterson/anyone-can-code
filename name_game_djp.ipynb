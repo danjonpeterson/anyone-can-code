{
 "cells": [
  {
   "cell_type": "code",
   "execution_count": 1,
   "metadata": {
    "collapsed": true
   },
   "outputs": [],
   "source": [
    "name='Daniel'"
   ]
  },
  {
   "cell_type": "code",
   "execution_count": 2,
   "metadata": {
    "collapsed": false
   },
   "outputs": [
    {
     "data": {
      "text/plain": [
       "'aniel'"
      ]
     },
     "execution_count": 2,
     "metadata": {},
     "output_type": "execute_result"
    }
   ],
   "source": [
    "name[1:]"
   ]
  },
  {
   "cell_type": "code",
   "execution_count": 3,
   "metadata": {
    "collapsed": false
   },
   "outputs": [
    {
     "name": "stdout",
     "output_type": "stream",
     "text": [
      "Daniel Daniel bo Baniel\n"
     ]
    }
   ],
   "source": [
    "print(name + \" \" + name + \" bo B\" + name[1:])"
   ]
  },
  {
   "cell_type": "code",
   "execution_count": 4,
   "metadata": {
    "collapsed": false
   },
   "outputs": [
    {
     "name": "stdout",
     "output_type": "stream",
     "text": [
      "Bannana Fanna Fo Faniel\n"
     ]
    }
   ],
   "source": [
    "print(\"Bannana Fanna Fo F\" + name[1:])"
   ]
  },
  {
   "cell_type": "code",
   "execution_count": 5,
   "metadata": {
    "collapsed": false
   },
   "outputs": [
    {
     "name": "stdout",
     "output_type": "stream",
     "text": [
      "Me My Mo Maniel\n"
     ]
    }
   ],
   "source": [
    "print(\"Me My Mo M\" + name[1:])"
   ]
  },
  {
   "cell_type": "code",
   "execution_count": 6,
   "metadata": {
    "collapsed": false
   },
   "outputs": [
    {
     "data": {
      "text/plain": [
       "'Daniel'"
      ]
     },
     "execution_count": 6,
     "metadata": {},
     "output_type": "execute_result"
    }
   ],
   "source": [
    "name"
   ]
  },
  {
   "cell_type": "code",
   "execution_count": 20,
   "metadata": {
    "collapsed": false
   },
   "outputs": [
    {
     "name": "stdout",
     "output_type": "stream",
     "text": [
      "Brandon Brandon Bo-randon\n",
      "Bannana Fanna Fo Frandon\n",
      "Me Mi Mo Mrandon\n",
      "Brandon\n"
     ]
    }
   ],
   "source": [
    "if name[0]!='B': \n",
    "    print name + \" \" + name + \" Bo B\" + name[1:] \n",
    "else:\n",
    "    print name + \" \" + name + \" Bo-\" + name[1:]\n",
    "\n",
    "\n",
    "print \"Bannana Fanna Fo F\" + name[1:] \n",
    "print \"Me Mi Mo M\" + name[1:]\n",
    "print name"
   ]
  },
  {
   "cell_type": "code",
   "execution_count": 7,
   "metadata": {
    "collapsed": true
   },
   "outputs": [],
   "source": [
    "def name_game(name):\n",
    "    if name[0]!='B': \n",
    "        print name + \" \" + name + \" Bo B\" + name[1:] \n",
    "    else:\n",
    "        print name + \" \" + name + \" Bo-\" + name[1:]\n",
    "    \n",
    "    if name[0]!='F': \n",
    "        print \"Bannana Fanna Fo F\" + name[1:] \n",
    "    else:\n",
    "        print \"Bannana Fanna Fo-\" + name[1:] \n",
    "    \n",
    "    if name[0]!='M': \n",
    "        print \"Me Mi Mo M\" + name[1:]\n",
    "    else:\n",
    "        print \"Me Mi Mo-\" + name[1:]\n",
    "        \n",
    "    print name"
   ]
  },
  {
   "cell_type": "code",
   "execution_count": 12,
   "metadata": {
    "collapsed": false
   },
   "outputs": [
    {
     "name": "stdout",
     "output_type": "stream",
     "text": [
      "Misha Misha Bo Bisha\n",
      "Bannana Fanna Fo Fisha\n",
      "Me Mi Mo-isha\n",
      "Misha\n"
     ]
    }
   ],
   "source": [
    "name_game('Misha')"
   ]
  },
  {
   "cell_type": "code",
   "execution_count": null,
   "metadata": {
    "collapsed": true
   },
   "outputs": [],
   "source": []
  }
 ],
 "metadata": {
  "kernelspec": {
   "display_name": "Python 2",
   "language": "python",
   "name": "python2"
  },
  "language_info": {
   "codemirror_mode": {
    "name": "ipython",
    "version": 2
   },
   "file_extension": ".py",
   "mimetype": "text/x-python",
   "name": "python",
   "nbconvert_exporter": "python",
   "pygments_lexer": "ipython2",
   "version": "2.7.13"
  }
 },
 "nbformat": 4,
 "nbformat_minor": 0
}
