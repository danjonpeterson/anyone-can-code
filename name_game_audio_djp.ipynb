{
 "cells": [
  {
   "cell_type": "code",
   "execution_count": 3,
   "metadata": {},
   "outputs": [],
   "source": [
    "import pyttsx3"
   ]
  },
  {
   "cell_type": "code",
   "execution_count": 4,
   "metadata": {},
   "outputs": [],
   "source": [
    "engine = pyttsx3.init()\n",
    "engine.say(\"I will speak this text\")\n",
    "engine.runAndWait()"
   ]
  },
  {
   "cell_type": "code",
   "execution_count": 1,
   "metadata": {
    "collapsed": true
   },
   "outputs": [],
   "source": [
    "name='Daniel'"
   ]
  },
  {
   "cell_type": "code",
   "execution_count": 2,
   "metadata": {},
   "outputs": [
    {
     "data": {
      "text/plain": [
       "'aniel'"
      ]
     },
     "execution_count": 2,
     "metadata": {},
     "output_type": "execute_result"
    }
   ],
   "source": [
    "name[1:]"
   ]
  },
  {
   "cell_type": "code",
   "execution_count": 3,
   "metadata": {},
   "outputs": [
    {
     "name": "stdout",
     "output_type": "stream",
     "text": [
      "Daniel Daniel bo Baniel\n"
     ]
    }
   ],
   "source": [
    "print(name + \" \" + name + \" bo B\" + name[1:])"
   ]
  },
  {
   "cell_type": "code",
   "execution_count": 4,
   "metadata": {},
   "outputs": [
    {
     "name": "stdout",
     "output_type": "stream",
     "text": [
      "Bannana Fanna Fo Faniel\n"
     ]
    }
   ],
   "source": [
    "print(\"Bannana Fanna Fo F\" + name[1:])"
   ]
  },
  {
   "cell_type": "code",
   "execution_count": 5,
   "metadata": {},
   "outputs": [
    {
     "name": "stdout",
     "output_type": "stream",
     "text": [
      "Me My Mo Maniel\n"
     ]
    }
   ],
   "source": [
    "print(\"Me My Mo M\" + name[1:])"
   ]
  },
  {
   "cell_type": "code",
   "execution_count": 6,
   "metadata": {},
   "outputs": [
    {
     "data": {
      "text/plain": [
       "'Daniel'"
      ]
     },
     "execution_count": 6,
     "metadata": {},
     "output_type": "execute_result"
    }
   ],
   "source": [
    "name"
   ]
  },
  {
   "cell_type": "code",
   "execution_count": 20,
   "metadata": {},
   "outputs": [
    {
     "name": "stdout",
     "output_type": "stream",
     "text": [
      "Brandon Brandon Bo-randon\n",
      "Bannana Fanna Fo Frandon\n",
      "Me Mi Mo Mrandon\n",
      "Brandon\n"
     ]
    }
   ],
   "source": [
    "if name[0]!='B': \n",
    "    print name + \" \" + name + \" Bo B\" + name[1:] \n",
    "else:\n",
    "    print name + \" \" + name + \" Bo-\" + name[1:]\n",
    "\n",
    "\n",
    "print \"Bannana Fanna Fo F\" + name[1:] \n",
    "print \"Me Mi Mo M\" + name[1:]\n",
    "print name"
   ]
  },
  {
   "cell_type": "code",
   "execution_count": 15,
   "metadata": {},
   "outputs": [],
   "source": [
    "def name_game(name):\n",
    "    result=''\n",
    "    if name[0]!='B': \n",
    "        result=result + name + \" \" + name + \" Bo B\" + name[1:] + \"\\n\" \n",
    "    else:\n",
    "        result=result + name + \" \" + name + \" Bo-\" + name[1:] + \"\\n\" \n",
    "    \n",
    "    if name[0]!='F': \n",
    "        result=result + \"Bannana Fanna Fo F\" + name[1:] + \"\\n\" \n",
    "    else:\n",
    "        result=result + \"Bannana Fanna Fo-\" + name[1:] + \"\\n\" \n",
    "    \n",
    "    if name[0]!='M': \n",
    "        result=result + \"Me Mi Mo M\" + name[1:] + \"\\n\" \n",
    "    else:\n",
    "        result=result + \"Me Mi Mo-\" + name[1:] + \"\\n\" \n",
    "        \n",
    "    result=result + name \n",
    "    \n",
    "    return result"
   ]
  },
  {
   "cell_type": "code",
   "execution_count": 16,
   "metadata": {},
   "outputs": [
    {
     "name": "stdout",
     "output_type": "stream",
     "text": [
      "Misha Misha Bo Bisha\n",
      "Bannana Fanna Fo Fisha\n",
      "Me Mi Mo-isha\n",
      "Misha\n"
     ]
    }
   ],
   "source": [
    "print(name_game('Misha'))"
   ]
  },
  {
   "cell_type": "code",
   "execution_count": 19,
   "metadata": {},
   "outputs": [],
   "source": [
    "engine.say(name_game('Daniel'))\n",
    "engine.runAndWait()"
   ]
  },
  {
   "cell_type": "code",
   "execution_count": null,
   "metadata": {},
   "outputs": [],
   "source": []
  }
 ],
 "metadata": {
  "kernelspec": {
   "display_name": "Python 3",
   "language": "python",
   "name": "python3"
  },
  "language_info": {
   "codemirror_mode": {
    "name": "ipython",
    "version": 3
   },
   "file_extension": ".py",
   "mimetype": "text/x-python",
   "name": "python",
   "nbconvert_exporter": "python",
   "pygments_lexer": "ipython3",
   "version": "3.7.1"
  }
 },
 "nbformat": 4,
 "nbformat_minor": 1
}
